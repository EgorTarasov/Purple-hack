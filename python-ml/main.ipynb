{
 "cells": [
  {
   "cell_type": "code",
   "execution_count": 1,
   "metadata": {},
   "outputs": [],
   "source": [
    "!pip3 install requests bs4 -q"
   ]
  },
  {
   "cell_type": "code",
   "execution_count": 2,
   "metadata": {},
   "outputs": [],
   "source": [
    "import requests\n",
    "from bs4 import BeautifulSoup\n"
   ]
  },
  {
   "cell_type": "markdown",
   "metadata": {},
   "source": [
    "# парсинг разделов сайта cbr.ru\n",
    "\n",
    "1. получить все блоки и ссылки на разделы с карты сайта\n",
    "2. Получить текста с разделов\n",
    "3. Пройтись по вложенным ссылкам и получить текст и ссылки по body"
   ]
  },
  {
   "cell_type": "code",
   "execution_count": 24,
   "metadata": {},
   "outputs": [],
   "source": [
    "base_url = \"https://www.cbr.ru{page}\"\n",
    "map_page = base_url.format(page=\"/sitemap\")"
   ]
  },
  {
   "cell_type": "code",
   "execution_count": 25,
   "metadata": {},
   "outputs": [],
   "source": [
    "res = requests.get(map_page)"
   ]
  },
  {
   "cell_type": "code",
   "execution_count": 26,
   "metadata": {},
   "outputs": [],
   "source": [
    "soup = BeautifulSoup(res.content, \"html.parser\")"
   ]
  },
  {
   "cell_type": "code",
   "execution_count": 27,
   "metadata": {},
   "outputs": [],
   "source": [
    "blocks = soup.find_all(\"div\", {\"class\":\"map_block\"})"
   ]
  },
  {
   "cell_type": "code",
   "execution_count": 28,
   "metadata": {},
   "outputs": [],
   "source": [
    "test_block = blocks[0]"
   ]
  },
  {
   "cell_type": "code",
   "execution_count": 29,
   "metadata": {},
   "outputs": [
    {
     "data": {
      "text/plain": [
       "<div class=\"map_block\">\n",
       "<h3 class=\"map_block_title\">\n",
       "<a href=\"/dkp/\">Денежно-кредитная политика</a>\n",
       "<div class=\"link-arr\"></div>\n",
       "</h3>\n",
       "<div class=\"row map_block_list\">\n",
       "<div class=\"map_block_columns col-md-11\">\n",
       "<ul class=\"map_block_column without_dash without_indent\">\n",
       "<li class=\"map_block-li\">\n",
       "<a href=\"/dkp/objective_and_principles/\">Цели и принципы денежно-кредитной политики</a>\n",
       "</li>\n",
       "<li class=\"map_block-li\">\n",
       "<a href=\"/dkp/about_inflation/\">Что такое инфляция</a>\n",
       "</li>\n",
       "<li class=\"map_block-li\">\n",
       "<a href=\"/dkp/w_infl/\">Как Банк России влияет на инфляцию</a>\n",
       "</li>\n",
       "<li class=\"map_block-li\">\n",
       "<a href=\"/dkp/system_p/\">Прогнозирование и модельный аппарат </a>\n",
       "</li>\n",
       "<li class=\"map_block-li\">\n",
       "<a href=\"/dkp/how_dec/\">Как принимаются решения по ключевой ставке</a>\n",
       "</li>\n",
       "<li class=\"map_block-li\">\n",
       "<a href=\"/dkp/information_policy/\">Как мы рассказываем о своих решениях</a>\n",
       "</li>\n",
       "<li class=\"map_block-li\">\n",
       "<a href=\"/dkp/review__dkp/\">Обзор денежно-кредитной политики Банка России</a>\n",
       "</li>\n",
       "<li class=\"map_block-li\">\n",
       "<a href=\"/dkp/mp_dec/\">Решения по денежно-кредитной политике</a>\n",
       "<ul class=\"map_block_column_deep without_dash\">\n",
       "<li class=\"map_block-li\">\n",
       "<a href=\"/dkp/mp_dec/decision_key_rate/\">Материалы по итогам заседаний Совета директоров Банка России по ключевой ставке</a>\n",
       "</li>\n",
       "</ul>\n",
       "</li>\n",
       "</ul>\n",
       "</div>\n",
       "<div class=\"map_block_columns col-md-11 offset-md-1\">\n",
       "<ul class=\"map_block_column without_dash without_indent\">\n",
       "<li class=\"map_block-li\">\n",
       "<a href=\"/dkp/cal_mp/\">Календарь решений по ключевой ставке</a>\n",
       "</li>\n",
       "<li class=\"map_block-li\">\n",
       "<a href=\"/dkp/voc/\">Глоссарий</a>\n",
       "</li>\n",
       "<li class=\"map_block-li\">\n",
       "<a href=\"/dkp/mp/\">Мониторинг предприятий</a>\n",
       "</li>\n",
       "<li class=\"map_block-li\">\n",
       "<a href=\"/dkp/statistics/\">Статистика</a>\n",
       "</li>\n",
       "<li class=\"map_block-li\">\n",
       "<a href=\"/dkp/analytic/\">Аналитика</a>\n",
       "</li>\n",
       "<li class=\"map_block-li\">\n",
       "<a href=\"/dkp/acts/\">Правовые акты</a>\n",
       "</li>\n",
       "<li class=\"map_block-li\">\n",
       "<a href=\"/dkp/faq/\">Вопросы и ответы</a>\n",
       "</li>\n",
       "<li class=\"map_block-li\">\n",
       "<a href=\"/dkp/news/\">Новости</a>\n",
       "</li>\n",
       "</ul>\n",
       "</div>\n",
       "</div>\n",
       "</div>"
      ]
     },
     "execution_count": 29,
     "metadata": {},
     "output_type": "execute_result"
    }
   ],
   "source": [
    "test_block"
   ]
  },
  {
   "cell_type": "code",
   "execution_count": 72,
   "metadata": {},
   "outputs": [],
   "source": [
    "def remove_nbsp(txt: str) -> str:\n",
    "    return txt.replace(\"\\xa0\", \" \")\n",
    "\n",
    "def parse_block(block) ->tuple[str, str, list[tuple[str, str]]]:# -> tuple[str, Any, list[tuple[str, str]]]: #-> tuple[str, str, list[tuple[str, str]]]:\n",
    "    \n",
    "    try:\n",
    "        title_h3 = block.find(\"h3\", {\"class\": \"map_block_title\"})\n",
    "        link = title_h3.find(\"a\")\n",
    "        block_link = base_url.format(page=link.attrs[\"href\"])\n",
    "        title = link.text\n",
    "        pages = [\n",
    "            (\n",
    "                base_url.format(page=page.find(\"a\").attrs[\"href\"]),\n",
    "                remove_nbsp(page.find(\"a\").text)\n",
    "            )\n",
    "            for page in block.find_all(\"li\", {\"class\": \"map_block-li\"})\n",
    "        ]\n",
    "    except Exception as e:\n",
    "        # print(e, block)\n",
    "        return \"\", \"\", []\n",
    "    return block_link, title, pages"
   ]
  },
  {
   "cell_type": "code",
   "execution_count": 75,
   "metadata": {},
   "outputs": [],
   "source": [
    "res = []\n",
    "for i, block in enumerate(blocks):\n",
    "    try:\n",
    "        res.append(parse_block(block))\n",
    "    except Exception as e:\n",
    "        print(i)\n"
   ]
  },
  {
   "cell_type": "code",
   "execution_count": null,
   "metadata": {},
   "outputs": [],
   "source": [
    "# TODO: go to every block link and get text and links from body element"
   ]
  },
  {
   "cell_type": "code",
   "execution_count": 79,
   "metadata": {},
   "outputs": [
    {
     "data": {
      "text/plain": [
       "('https://www.cbr.ru/cash_circulation/',\n",
       " 'Наличное денежное обращение',\n",
       " [('https://www.cbr.ru/cash_circulation/banknotes/5rub/', 'Банкноты'),\n",
       "  ('https://www.cbr.ru/cash_circulation/mb/', 'Модернизация банкнот'),\n",
       "  ('https://www.cbr.ru/cash_circulation/memorable_banknotes/',\n",
       "   'Памятные банкноты'),\n",
       "  ('https://www.cbr.ru/cash_circulation/coins/1k/', 'Монеты'),\n",
       "  ('https://www.cbr.ru/cash_circulation/memorable_coins/',\n",
       "   'Памятные и инвестиционные монеты'),\n",
       "  ('https://www.cbr.ru/cash_circulation/memorable_coins/plan/',\n",
       "   'План выпуска монет'),\n",
       "  ('https://www.cbr.ru/cash_circulation/memorable_coins/dragmet_pam/',\n",
       "   'Памятка для работы с памятными и инвестиционными монетами'),\n",
       "  ('https://www.cbr.ru/cash_circulation/memorable_coins/coins_base/',\n",
       "   'База данных по памятным и инвестиционным монетам'),\n",
       "  ('https://www.cbr.ru/cash_circulation/memorable_coins/Catalogs/',\n",
       "   'Каталоги памятных и инвестиционных монет России'),\n",
       "  ('https://www.cbr.ru/cash_circulation/memorable_coins/list_org_coins/',\n",
       "   'Организации, с которыми Банк России заключил соглашения (договоры) о распространении памятных и инвестиционных монет'),\n",
       "  ('https://www.cbr.ru/cash_circulation/memorable_coins/organizaciya-vypuska-v-obraschenie-i-rasprostranenie-monet-iz-dragocennykh-metallov/',\n",
       "   'Организация выпуска в обращение и распространение монет Банка России из драгоценных и недрагоценных металлов'),\n",
       "  ('https://www.cbr.ru/cash_circulation/working_cash/',\n",
       "   'Организация работы с денежной наличностью'),\n",
       "  ('https://www.cbr.ru/cash_circulation/video/', 'Видеоматериалы'),\n",
       "  ('https://www.cbr.ru/cash_circulation/special_paint/',\n",
       "   'Специальные краски, предназначенные для предотвращения хищения банкнот Банка России при их транспортировке и хранении'),\n",
       "  ('https://www.cbr.ru/cash_circulation/mobilnoe-prilozhenie/',\n",
       "   'Мобильное приложение «Банкноты Банка России»'),\n",
       "  ('https://www.cbr.ru/cash_circulation/statistics/', 'Статистика'),\n",
       "  ('https://www.cbr.ru/cash_circulation/analitics/', 'Аналитика'),\n",
       "  ('https://www.cbr.ru/cash_circulation/normative_acts/', 'Правовые акты'),\n",
       "  ('https://www.cbr.ru/faq/ndo/', 'Вопросы и ответы'),\n",
       "  ('https://www.cbr.ru/cash_circulation/news/', 'Новости')])"
      ]
     },
     "execution_count": 79,
     "metadata": {},
     "output_type": "execute_result"
    }
   ],
   "source": [
    "res[3]"
   ]
  },
  {
   "cell_type": "code",
   "execution_count": 2,
   "metadata": {},
   "outputs": [],
   "source": [
    "!pip3 install easyocr -q"
   ]
  },
  {
   "cell_type": "markdown",
   "metadata": {},
   "source": [
    "# Обработка pdf документов\n",
    "\n",
    "Большинство документов из себя представляли из себя набор картинок с текстом, предположительно отцифрованные документы для \n"
   ]
  },
  {
   "cell_type": "code",
   "execution_count": 3,
   "metadata": {},
   "outputs": [
    {
     "name": "stderr",
     "output_type": "stream",
     "text": [
      "/Users/egortarasov/uni/Хакатоны/Purple-hack/.venv/lib/python3.11/site-packages/tqdm/auto.py:21: TqdmWarning: IProgress not found. Please update jupyter and ipywidgets. See https://ipywidgets.readthedocs.io/en/stable/user_install.html\n",
      "  from .autonotebook import tqdm as notebook_tqdm\n"
     ]
    }
   ],
   "source": [
    "import logging\n",
    "from pymongo import MongoClient\n",
    "from pymongo.collection import Collection\n",
    "import os\n",
    "\n",
    "from tqdm import tqdm\n",
    "from pymongo import MongoClient\n",
    "import easyocr"
   ]
  },
  {
   "cell_type": "code",
   "execution_count": 6,
   "metadata": {},
   "outputs": [],
   "source": [
    "reader = easyocr.Reader([\"ru\"], gpu=True)\n",
    "client = MongoClient(\"mongo\")\n",
    "db = client[\"cbr\"]\n",
    "collection = db[\"materials\"]"
   ]
  },
  {
   "cell_type": "code",
   "execution_count": 7,
   "metadata": {},
   "outputs": [],
   "source": [
    "def get_txt(reader, filename: str) -> str:\n",
    "    return \" \".join(reader.readtext(filename, detail=0))\n",
    "\n",
    "\n",
    "def get_id(filename: str) -> tuple[int, int]:\n",
    "    \"\"\"returns doc_id and page_id\"\"\"\n",
    "    return tuple(map(int, filename.split(\".\")[0].split(\"_\")))\n",
    "\n",
    "\n",
    "def check_if_page_exist(filename: str, coll: Collection) -> bool:\n",
    "    doc_id, page = get_id(filename)\n",
    "    res = coll.find_one({\"docID\": str(doc_id), \"pageID\": str(page)})\n",
    "    if res is None:\n",
    "        return False\n",
    "    else:\n",
    "        return True"
   ]
  },
  {
   "cell_type": "code",
   "execution_count": 4,
   "metadata": {},
   "outputs": [
    {
     "data": {
      "text/plain": [
       "[3, 2, 1]"
      ]
     },
     "execution_count": 4,
     "metadata": {},
     "output_type": "execute_result"
    }
   ],
   "source": [
    "a = [1, 2, 3]\n",
    "a[-1:2:-1]"
   ]
  },
  {
   "cell_type": "code",
   "execution_count": 11,
   "metadata": {},
   "outputs": [
    {
     "name": "stderr",
     "output_type": "stream",
     "text": [
      "100%|██████████| 25702/25702 [3:17:41<00:00,  2.17it/s]  \n"
     ]
    }
   ],
   "source": [
    "for file in tqdm(os.listdir(\"/Users/egortarasov/Desktop/tmp\")[-1:13150:-1]):\n",
    "    if check_if_page_exist(file, collection):\n",
    "        continue\n",
    "    else:\n",
    "        res = get_txt(reader, f\"/Users/egortarasov/Desktop/tmp/{file}\")\n",
    "        doc_id, page_id = get_id(file)\n",
    "        collection.insert_one(\n",
    "            {\n",
    "                \"docID\": str(doc_id),\n",
    "                \"pageID\": str(page_id),\n",
    "                \"text\": res,\n",
    "                \"src\": f\"https://www.cbr.ru/Queries/UniDbQuery/File/90134/{doc_id}\",\n",
    "            }\n",
    "        )"
   ]
  }
 ],
 "metadata": {
  "kernelspec": {
   "display_name": ".venv",
   "language": "python",
   "name": "python3"
  },
  "language_info": {
   "codemirror_mode": {
    "name": "ipython",
    "version": 3
   },
   "file_extension": ".py",
   "mimetype": "text/x-python",
   "name": "python",
   "nbconvert_exporter": "python",
   "pygments_lexer": "ipython3",
   "version": "3.11.8"
  }
 },
 "nbformat": 4,
 "nbformat_minor": 2
}
