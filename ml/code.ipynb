{
 "cells": [
  {
   "cell_type": "markdown",
   "id": "5526386f-500f-43c6-a545-cdca4ab69774",
   "metadata": {},
   "source": [
    "# RAG Implementation using Llama-2 model\n",
    "\n",
    "This is a simple RAG implementation using all-mpnet-base-v2 embedding model, chromadb vector database and Llama-2 model."
   ]
  },
  {
   "cell_type": "code",
   "execution_count": 2,
   "id": "340d7fa5",
   "metadata": {},
   "outputs": [
    {
     "name": "stdout",
     "output_type": "stream",
     "text": [
      "Requirement already satisfied: ollama in /Users/egortarasov/uni/Хакатоны/Purple-hack/venv/lib/python3.11/site-packages (0.1.7)\n",
      "Requirement already satisfied: httpx<0.26.0,>=0.25.2 in /Users/egortarasov/uni/Хакатоны/Purple-hack/venv/lib/python3.11/site-packages (from ollama) (0.25.2)\n",
      "Requirement already satisfied: anyio in /Users/egortarasov/uni/Хакатоны/Purple-hack/venv/lib/python3.11/site-packages (from httpx<0.26.0,>=0.25.2->ollama) (4.3.0)\n",
      "Requirement already satisfied: certifi in /Users/egortarasov/uni/Хакатоны/Purple-hack/venv/lib/python3.11/site-packages (from httpx<0.26.0,>=0.25.2->ollama) (2024.2.2)\n",
      "Requirement already satisfied: httpcore==1.* in /Users/egortarasov/uni/Хакатоны/Purple-hack/venv/lib/python3.11/site-packages (from httpx<0.26.0,>=0.25.2->ollama) (1.0.4)\n",
      "Requirement already satisfied: idna in /Users/egortarasov/uni/Хакатоны/Purple-hack/venv/lib/python3.11/site-packages (from httpx<0.26.0,>=0.25.2->ollama) (3.6)\n",
      "Requirement already satisfied: sniffio in /Users/egortarasov/uni/Хакатоны/Purple-hack/venv/lib/python3.11/site-packages (from httpx<0.26.0,>=0.25.2->ollama) (1.3.1)\n",
      "Requirement already satisfied: h11<0.15,>=0.13 in /Users/egortarasov/uni/Хакатоны/Purple-hack/venv/lib/python3.11/site-packages (from httpcore==1.*->httpx<0.26.0,>=0.25.2->ollama) (0.14.0)\n"
     ]
    }
   ],
   "source": [
    "!pip3 install ollama"
   ]
  },
  {
   "cell_type": "code",
   "execution_count": 10,
   "id": "03755b9a",
   "metadata": {},
   "outputs": [
    {
     "name": "stdout",
     "output_type": "stream",
     "text": [
      "\n",
      "The sky appears blue because of a phenomenon called Rayleigh scattering. When sunlight enters Earth's atmosphere, it encounters tiny molecules of gases such as nitrogen and oxygen. These molecules absorb some of the light and scatter the rest in all directions. The shorter wavelengths of light, such as blue and violet, are scattered more than the longer wavelengths, such as red and orange. This is known as Rayleigh scattering.\n",
      "\n",
      "As a result of this scattering, the light that reaches our eyes from the sun appears blue, especially when observed from a distance. The blue color of the sky is not the only color that can be observed in the atmosphere. For example, during sunrise and sunset, the sky can take on hues of red, orange, and pink due to the scattering of light by atmospheric particles.\n",
      "\n",
      "It's worth noting that the blue color of the sky is not always constant. The color of the sky can change depending on various factors such as the time of day, the amount of dust and pollutants in the atmosphere, and even the presence of clouds. For example, during sunrise and sunset, the sky can take on more orange and red hues due to the scattering of light by atmospheric particles.\n",
      "\n",
      "In summary, the blue color of the sky is caused by the scattering of sunlight by tiny molecules of gases in the atmosphere, known as Rayleigh scattering.\n"
     ]
    }
   ],
   "source": [
    "from ollama import Client\n",
    "\n",
    "client = Client(host=\"http://192.168.1.70:11434\")\n",
    "\n",
    "stream = client.chat(\n",
    "    model='llama2',\n",
    "    messages=[{'role': 'user', 'content': 'Why is the sky blue?'}],\n",
    "    # stream=True,\n",
    ")\n",
    "\n",
    "print(stream[\"message\"][\"content\"])\n",
    "# for chunk in stream:\n",
    "#   print(chunk['message']['content'], end='', flush=True)"
   ]
  }
 ],
 "metadata": {
  "kernelspec": {
   "display_name": "Python 3 (ipykernel)",
   "language": "python",
   "name": "python3"
  },
  "language_info": {
   "codemirror_mode": {
    "name": "ipython",
    "version": 3
   },
   "file_extension": ".py",
   "mimetype": "text/x-python",
   "name": "python",
   "nbconvert_exporter": "python",
   "pygments_lexer": "ipython3",
   "version": "3.11.8"
  }
 },
 "nbformat": 4,
 "nbformat_minor": 5
}
