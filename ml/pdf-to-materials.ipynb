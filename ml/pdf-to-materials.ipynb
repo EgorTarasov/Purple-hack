{
 "cells": [
  {
   "cell_type": "code",
   "execution_count": 1,
   "metadata": {},
   "outputs": [],
   "source": [
    "from pymongo import MongoClient\n",
    "\n",
    "client = MongoClient(\"mongo_con\")\n",
    "db = client[\"cbr\"]\n",
    "\n",
    "materials = db[\"materials\"]"
   ]
  },
  {
   "cell_type": "code",
   "execution_count": 2,
   "metadata": {},
   "outputs": [],
   "source": [
    "data = materials.find()"
   ]
  },
  {
   "cell_type": "code",
   "execution_count": 12,
   "metadata": {},
   "outputs": [],
   "source": [
    "import os\n",
    "from PyPDF2 import PdfReader\n",
    "from pdf2image import convert_from_path\n",
    "from PIL import Image\n",
    "\n",
    "\n",
    "def resize_image(input_image_path, output_image_path, size=(832, 1173)):\n",
    "    original_image = Image.open(input_image_path)\n",
    "    resized_image = original_image.resize(size)\n",
    "    resized_image.save(output_image_path)\n",
    "\n",
    "\n",
    "# Extract text from all pages in the PDF\n",
    "def save_pages(\n",
    "    pdf_path: str, start: int, output_folder: str\n",
    "):\n",
    "    images = convert_from_path(pdf_path)[start:]\n",
    "    doc_id = pdf_path.split(\"/\")[-1].split(\".\")[0]\n",
    "    for i, image in enumerate(images):\n",
    "        fname = f\"{output_folder}/{doc_id}_{i}.png\"\n",
    "        image.save(fname, \"PNG\")\n",
    "\n",
    "        resize_image(fname, fname)\n",
    "\n",
    "\n",
    "docs_path = \"parser/docs/\"\n",
    "# docsid , pages sorted by pages number\n",
    "docs :list[tuple[int, int]] = list()\n",
    "\n",
    "for doc in os.listdir(docs_path):\n",
    "    if doc.endswith(\".pdf\"):\n",
    "        reader = PdfReader(docs_path + doc)\n",
    "        docid = int(doc.split(\".\")[0])\n",
    "        pages = len(reader.pages)\n",
    "        docs.append((docid, pages))\n",
    "\n",
    "docs.sort(key=lambda x: x[1])\n",
    "\n",
    "from tqdm import tqdm\n",
    "\n",
    "\n",
    "for doc in tqdm(docs):\n",
    "    # split the pdf into pages\n",
    "    # save pages as images in tmp folder with the name docid_pagenumber.jpg\n",
    "    save_pages(docs_path + str(doc[0]) + \".pdf\", 0, \"tmp\")"
   ]
  },
  {
   "cell_type": "code",
   "execution_count": 15,
   "metadata": {},
   "outputs": [
    {
     "data": {
      "text/plain": [
       "[(814, 99),\n",
       " (893, 100),\n",
       " (453, 101),\n",
       " (1032, 102),\n",
       " (3889, 102),\n",
       " (288, 103),\n",
       " (535, 105),\n",
       " (2724, 105),\n",
       " (2486, 105),\n",
       " (973, 106),\n",
       " (438, 107),\n",
       " (1047, 107),\n",
       " (2783, 109),\n",
       " (28, 112),\n",
       " (2402, 112),\n",
       " (646, 112),\n",
       " (454, 112),\n",
       " (42, 112),\n",
       " (771, 116),\n",
       " (2391, 120),\n",
       " (605, 124),\n",
       " (1046, 125),\n",
       " (321, 127),\n",
       " (2609, 127),\n",
       " (2690, 128),\n",
       " (2736, 128),\n",
       " (354, 129),\n",
       " (1063, 132),\n",
       " (540, 134),\n",
       " (2721, 140),\n",
       " (457, 148),\n",
       " (316, 150),\n",
       " (1110, 151),\n",
       " (2500, 153),\n",
       " (2555, 155),\n",
       " (790, 158),\n",
       " (954, 165),\n",
       " (3955, 165),\n",
       " (222, 173),\n",
       " (267, 176),\n",
       " (2335, 182),\n",
       " (78, 182),\n",
       " (967, 186),\n",
       " (408, 190),\n",
       " (446, 191),\n",
       " (1157, 197),\n",
       " (2727, 204),\n",
       " (413, 206),\n",
       " (324, 220),\n",
       " (610, 223),\n",
       " (2752, 223),\n",
       " (2814, 224),\n",
       " (642, 226),\n",
       " (400, 245),\n",
       " (189, 253),\n",
       " (966, 293),\n",
       " (2458, 313),\n",
       " (2726, 319),\n",
       " (2492, 346),\n",
       " (19, 360),\n",
       " (445, 368),\n",
       " (1087, 372),\n",
       " (1253, 403),\n",
       " (208, 430),\n",
       " (842, 436),\n",
       " (2732, 459),\n",
       " (1038, 485),\n",
       " (1283, 489),\n",
       " (1091, 496),\n",
       " (317, 523),\n",
       " (444, 527),\n",
       " (2507, 538),\n",
       " (2401, 552),\n",
       " (2729, 561),\n",
       " (472, 562),\n",
       " (1108, 565),\n",
       " (1030, 574),\n",
       " (1106, 575),\n",
       " (2734, 607),\n",
       " (202, 609),\n",
       " (252, 652),\n",
       " (200, 663),\n",
       " (1069, 674),\n",
       " (2702, 715),\n",
       " (1286, 758),\n",
       " (572, 916),\n",
       " (1025, 1069),\n",
       " (2651, 1093),\n",
       " (460, 1127),\n",
       " (2735, 1204),\n",
       " (879, 1247),\n",
       " (180, 1274),\n",
       " (461, 1306),\n",
       " (2750, 1443),\n",
       " (699, 1463),\n",
       " (2746, 1526),\n",
       " (2323, 1546),\n",
       " (455, 1791),\n",
       " (2861, 2006),\n",
       " (2343, 2041)]"
      ]
     },
     "execution_count": 15,
     "metadata": {},
     "output_type": "execute_result"
    }
   ],
   "source": [
    "docs[-100:]"
   ]
  },
  {
   "cell_type": "code",
   "execution_count": 9,
   "metadata": {},
   "outputs": [
    {
     "data": {
      "text/plain": [
       "{'_id': ObjectId('65ec6edfb697670d0842a700'),\n",
       " 'docID': '2486',\n",
       " 'pageID': '38',\n",
       " 'text': 'графе таблицы указывается сумма значений показателей графах 3-7 таблицы: Сверка вступительных и заключитсльных сальдо оценок приведенной стоимости будущих денсжных потоков, рисковой поправки на нефинансовый риск и маржи за предусмотренные договором услуги по портфелям удерживаемых (переданных) договоров перестрахования жизни за 20 года Таблица 14.4 1 Наимснованне показателя 1 1] Ё 1 ё 9 ! 2 Чнстые активы (обязательства) по портфелям удерживасмых (переданных) договоров перестраховання жизнн том числе; активы по портфелям удерживасмых (переданных) договоров перестрахования жизни на обязательства по портфелям удерживаемых (переданных) договоров персстрахования жизни на Измснения; относящцисся услугам будущих периодов, том числе: влиянне удерживаемых (псреданных ) договоров перестрахования жизнн: первоначально признанных отчетном перноде изменения оцснок; которые корректируют маржу за предусмотренныедоговором услуги сумма возмещения (уменьшения возмещения) от перестраховщика по группам обрсменительных базовых договоров Изменения; относящнеся услугам тскущего пернода том чнсле: величина маржи за предусмотренные договором услуги; признанная саставе прибыли или убытка целью отражения полученных услуг измененне рисковой поправки на нефинансовый риск; которое не отнасится услугам будущих или прошлых периодов корректировки на основе опыта Ё',\n",
       " 'src': 'https://www.cbr.ru/Queries/UniDbQuery/File/90134/2486'}"
      ]
     },
     "execution_count": 9,
     "metadata": {},
     "output_type": "execute_result"
    }
   ],
   "source": [
    "# count unique docIDs in mongo collection\n",
    "doc_ids = materials.distinct(\"docID\")\n",
    "len(doc_ids)\n",
    "data[87]"
   ]
  }
 ],
 "metadata": {
  "kernelspec": {
   "display_name": ".venv",
   "language": "python",
   "name": "python3"
  },
  "language_info": {
   "codemirror_mode": {
    "name": "ipython",
    "version": 3
   },
   "file_extension": ".py",
   "mimetype": "text/x-python",
   "name": "python",
   "nbconvert_exporter": "python",
   "pygments_lexer": "ipython3",
   "version": "3.11.8"
  }
 },
 "nbformat": 4,
 "nbformat_minor": 2
}
